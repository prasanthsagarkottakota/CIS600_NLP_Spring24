{
 "cells": [
  {
   "cell_type": "code",
   "execution_count": 1,
   "id": "fc974887",
   "metadata": {
    "execution": {
     "iopub.execute_input": "2024-05-03T16:44:04.330893Z",
     "iopub.status.busy": "2024-05-03T16:44:04.330496Z",
     "iopub.status.idle": "2024-05-03T16:44:05.125480Z",
     "shell.execute_reply": "2024-05-03T16:44:05.123799Z"
    },
    "papermill": {
     "duration": 0.80724,
     "end_time": "2024-05-03T16:44:05.128346",
     "exception": false,
     "start_time": "2024-05-03T16:44:04.321106",
     "status": "completed"
    },
    "tags": []
   },
   "outputs": [
    {
     "name": "stdout",
     "output_type": "stream",
     "text": [
      "/kaggle/input/malicious_phish.csv\n"
     ]
    }
   ],
   "source": [
    "# This Python 3 environment comes with many helpful analytics libraries installed\n",
    "# It is defined by the kaggle/python Docker image: https://github.com/kaggle/docker-python\n",
    "# For example, here's several helpful packages to load\n",
    "\n",
    "import numpy as np # linear algebra\n",
    "import pandas as pd # data processing, CSV file I/O (e.g. pd.read_csv)\n",
    "\n",
    "# Input data files are available in the read-only \"../input/\" directory\n",
    "# For example, running this (by clicking run or pressing Shift+Enter) will list all files under the input directory\n",
    "\n",
    "import os\n",
    "for dirname, _, filenames in os.walk('/kaggle/input'):\n",
    "    for filename in filenames:\n",
    "        print(os.path.join(dirname, filename))\n",
    "\n",
    "# You can write up to 20GB to the current directory (/kaggle/working/) that gets preserved as output when you create a version using \"Save & Run All\" \n",
    "# You can also write temporary files to /kaggle/temp/, but they won't be saved outside of the current session"
   ]
  },
  {
   "cell_type": "markdown",
   "id": "7276093c",
   "metadata": {
    "papermill": {
     "duration": 0.007142,
     "end_time": "2024-05-03T16:44:05.144346",
     "exception": false,
     "start_time": "2024-05-03T16:44:05.137204",
     "status": "completed"
    },
    "tags": []
   },
   "source": [
    "Import Required Libraries"
   ]
  },
  {
   "cell_type": "code",
   "execution_count": 2,
   "id": "fb625543",
   "metadata": {
    "execution": {
     "iopub.execute_input": "2024-05-03T16:44:05.161577Z",
     "iopub.status.busy": "2024-05-03T16:44:05.160764Z",
     "iopub.status.idle": "2024-05-03T16:44:06.613651Z",
     "shell.execute_reply": "2024-05-03T16:44:06.612582Z"
    },
    "papermill": {
     "duration": 1.464133,
     "end_time": "2024-05-03T16:44:06.616133",
     "exception": false,
     "start_time": "2024-05-03T16:44:05.152000",
     "status": "completed"
    },
    "tags": []
   },
   "outputs": [],
   "source": [
    "import pandas as pd\n",
    "from sklearn.model_selection import train_test_split\n",
    "from sklearn.feature_extraction.text import TfidfVectorizer\n",
    "from sklearn.ensemble import RandomForestClassifier\n",
    "from sklearn.metrics import accuracy_score"
   ]
  },
  {
   "cell_type": "markdown",
   "id": "84fc29e0",
   "metadata": {
    "papermill": {
     "duration": 0.007263,
     "end_time": "2024-05-03T16:44:06.631216",
     "exception": false,
     "start_time": "2024-05-03T16:44:06.623953",
     "status": "completed"
    },
    "tags": []
   },
   "source": [
    "Load data"
   ]
  },
  {
   "cell_type": "code",
   "execution_count": 3,
   "id": "22d481f6",
   "metadata": {
    "execution": {
     "iopub.execute_input": "2024-05-03T16:44:06.648055Z",
     "iopub.status.busy": "2024-05-03T16:44:06.647679Z",
     "iopub.status.idle": "2024-05-03T16:44:07.032099Z",
     "shell.execute_reply": "2024-05-03T16:44:07.031122Z"
    },
    "papermill": {
     "duration": 0.395769,
     "end_time": "2024-05-03T16:44:07.034696",
     "exception": false,
     "start_time": "2024-05-03T16:44:06.638927",
     "status": "completed"
    },
    "tags": []
   },
   "outputs": [],
   "source": [
    "data = pd.read_csv(\"/kaggle/input/malicious_phish.csv\", nrows = 150000)"
   ]
  },
  {
   "cell_type": "markdown",
   "id": "86f00238",
   "metadata": {
    "papermill": {
     "duration": 0.007132,
     "end_time": "2024-05-03T16:44:07.049472",
     "exception": false,
     "start_time": "2024-05-03T16:44:07.042340",
     "status": "completed"
    },
    "tags": []
   },
   "source": [
    "Data Preprocessing"
   ]
  },
  {
   "cell_type": "code",
   "execution_count": 4,
   "id": "a7e43bd9",
   "metadata": {
    "execution": {
     "iopub.execute_input": "2024-05-03T16:44:07.066907Z",
     "iopub.status.busy": "2024-05-03T16:44:07.066522Z",
     "iopub.status.idle": "2024-05-03T16:44:07.090567Z",
     "shell.execute_reply": "2024-05-03T16:44:07.089699Z"
    },
    "papermill": {
     "duration": 0.034783,
     "end_time": "2024-05-03T16:44:07.092760",
     "exception": false,
     "start_time": "2024-05-03T16:44:07.057977",
     "status": "completed"
    },
    "tags": []
   },
   "outputs": [],
   "source": [
    "# Convert types into numeric labels\n",
    "label_mapping = {\"benign\": 0, \"phishing\": 1, \"defacement\": 2, \"malware\" : 3}\n",
    "data['label'] = data['type'].map(label_mapping)"
   ]
  },
  {
   "cell_type": "markdown",
   "id": "dbdea8f3",
   "metadata": {
    "papermill": {
     "duration": 0.007295,
     "end_time": "2024-05-03T16:44:07.107682",
     "exception": false,
     "start_time": "2024-05-03T16:44:07.100387",
     "status": "completed"
    },
    "tags": []
   },
   "source": [
    "Feature Engineering"
   ]
  },
  {
   "cell_type": "code",
   "execution_count": 5,
   "id": "cb26417e",
   "metadata": {
    "execution": {
     "iopub.execute_input": "2024-05-03T16:44:07.124334Z",
     "iopub.status.busy": "2024-05-03T16:44:07.123942Z",
     "iopub.status.idle": "2024-05-03T16:44:10.296689Z",
     "shell.execute_reply": "2024-05-03T16:44:10.295635Z"
    },
    "papermill": {
     "duration": 3.184039,
     "end_time": "2024-05-03T16:44:10.299220",
     "exception": false,
     "start_time": "2024-05-03T16:44:07.115181",
     "status": "completed"
    },
    "tags": []
   },
   "outputs": [],
   "source": [
    "# Tokenize URLs into words or characters and compute TF-IDF features\n",
    "vectorizer = TfidfVectorizer(analyzer='char', lowercase=False)\n",
    "X = vectorizer.fit_transform(data['url'])\n",
    "\n",
    "# Split data into features (X) and labels (y)\n",
    "y = data['label']"
   ]
  },
  {
   "cell_type": "markdown",
   "id": "2b7fd1d6",
   "metadata": {
    "papermill": {
     "duration": 0.007411,
     "end_time": "2024-05-03T16:44:10.314290",
     "exception": false,
     "start_time": "2024-05-03T16:44:10.306879",
     "status": "completed"
    },
    "tags": []
   },
   "source": [
    "Split the Data"
   ]
  },
  {
   "cell_type": "code",
   "execution_count": 6,
   "id": "f7c123be",
   "metadata": {
    "execution": {
     "iopub.execute_input": "2024-05-03T16:44:10.331150Z",
     "iopub.status.busy": "2024-05-03T16:44:10.330769Z",
     "iopub.status.idle": "2024-05-03T16:44:10.367927Z",
     "shell.execute_reply": "2024-05-03T16:44:10.366765Z"
    },
    "papermill": {
     "duration": 0.048768,
     "end_time": "2024-05-03T16:44:10.370540",
     "exception": false,
     "start_time": "2024-05-03T16:44:10.321772",
     "status": "completed"
    },
    "tags": []
   },
   "outputs": [],
   "source": [
    "# Split data into training and testing sets\n",
    "X_train, X_test, y_train, y_test = train_test_split(X, y, test_size=0.2, random_state=32)"
   ]
  },
  {
   "cell_type": "code",
   "execution_count": 7,
   "id": "98583fa0",
   "metadata": {
    "execution": {
     "iopub.execute_input": "2024-05-03T16:44:10.387464Z",
     "iopub.status.busy": "2024-05-03T16:44:10.387061Z",
     "iopub.status.idle": "2024-05-03T16:44:10.395217Z",
     "shell.execute_reply": "2024-05-03T16:44:10.394155Z"
    },
    "papermill": {
     "duration": 0.01913,
     "end_time": "2024-05-03T16:44:10.397288",
     "exception": false,
     "start_time": "2024-05-03T16:44:10.378158",
     "status": "completed"
    },
    "tags": []
   },
   "outputs": [
    {
     "data": {
      "text/plain": [
       "<1x173 sparse matrix of type '<class 'numpy.float64'>'\n",
       "\twith 11 stored elements in Compressed Sparse Row format>"
      ]
     },
     "execution_count": 7,
     "metadata": {},
     "output_type": "execute_result"
    }
   ],
   "source": [
    "X[0]"
   ]
  },
  {
   "cell_type": "code",
   "execution_count": 8,
   "id": "10e040c2",
   "metadata": {
    "execution": {
     "iopub.execute_input": "2024-05-03T16:44:10.414066Z",
     "iopub.status.busy": "2024-05-03T16:44:10.413683Z",
     "iopub.status.idle": "2024-05-03T16:44:10.420332Z",
     "shell.execute_reply": "2024-05-03T16:44:10.419349Z"
    },
    "papermill": {
     "duration": 0.017363,
     "end_time": "2024-05-03T16:44:10.422322",
     "exception": false,
     "start_time": "2024-05-03T16:44:10.404959",
     "status": "completed"
    },
    "tags": []
   },
   "outputs": [
    {
     "data": {
      "text/plain": [
       "<1x173 sparse matrix of type '<class 'numpy.float64'>'\n",
       "\twith 19 stored elements in Compressed Sparse Row format>"
      ]
     },
     "execution_count": 8,
     "metadata": {},
     "output_type": "execute_result"
    }
   ],
   "source": [
    "X[1]"
   ]
  },
  {
   "cell_type": "code",
   "execution_count": 9,
   "id": "930d6398",
   "metadata": {
    "execution": {
     "iopub.execute_input": "2024-05-03T16:44:10.440103Z",
     "iopub.status.busy": "2024-05-03T16:44:10.439314Z",
     "iopub.status.idle": "2024-05-03T16:44:10.447343Z",
     "shell.execute_reply": "2024-05-03T16:44:10.446317Z"
    },
    "papermill": {
     "duration": 0.019487,
     "end_time": "2024-05-03T16:44:10.449897",
     "exception": false,
     "start_time": "2024-05-03T16:44:10.430410",
     "status": "completed"
    },
    "tags": []
   },
   "outputs": [
    {
     "name": "stdout",
     "output_type": "stream",
     "text": [
      "  (0, 8)\t0.14586499149789456\n",
      "  (0, 3)\t0.14586499149789456\n",
      "  (0, 4)\t0.14586499149789456\n",
      "  (0, 7)\t0.14586499149789456\n",
      "  (0, 9)\t0.4375949744936837\n",
      "  (0, 5)\t0.2917299829957891\n",
      "  (0, 0)\t0.2917299829957891\n",
      "  (0, 13)\t0.4375949744936837\n",
      "  (0, 1)\t0.4375949744936837\n",
      "  (0, 2)\t0.14586499149789456\n",
      "  (0, 11)\t0.14586499149789456\n",
      "  (0, 10)\t0.14586499149789456\n",
      "  (0, 12)\t0.2917299829957891\n",
      "  (0, 6)\t0.14586499149789456\n"
     ]
    }
   ],
   "source": [
    "# An example of how the vectorizer would transform the give url\n",
    "url1 = ['https://www.google.com/']\n",
    "P = vectorizer.fit_transform(url1)\n",
    "print(P)"
   ]
  },
  {
   "cell_type": "code",
   "execution_count": 10,
   "id": "8fcd0df4",
   "metadata": {
    "execution": {
     "iopub.execute_input": "2024-05-03T16:44:10.467798Z",
     "iopub.status.busy": "2024-05-03T16:44:10.466699Z",
     "iopub.status.idle": "2024-05-03T16:44:10.473533Z",
     "shell.execute_reply": "2024-05-03T16:44:10.472367Z"
    },
    "papermill": {
     "duration": 0.018233,
     "end_time": "2024-05-03T16:44:10.475874",
     "exception": false,
     "start_time": "2024-05-03T16:44:10.457641",
     "status": "completed"
    },
    "tags": []
   },
   "outputs": [
    {
     "data": {
      "text/plain": [
       "scipy.sparse._csr.csr_matrix"
      ]
     },
     "execution_count": 10,
     "metadata": {},
     "output_type": "execute_result"
    }
   ],
   "source": [
    "type(P)"
   ]
  },
  {
   "cell_type": "code",
   "execution_count": 11,
   "id": "54b19dc4",
   "metadata": {
    "execution": {
     "iopub.execute_input": "2024-05-03T16:44:10.493216Z",
     "iopub.status.busy": "2024-05-03T16:44:10.492845Z",
     "iopub.status.idle": "2024-05-03T16:44:10.498408Z",
     "shell.execute_reply": "2024-05-03T16:44:10.497355Z"
    },
    "papermill": {
     "duration": 0.017248,
     "end_time": "2024-05-03T16:44:10.501005",
     "exception": false,
     "start_time": "2024-05-03T16:44:10.483757",
     "status": "completed"
    },
    "tags": []
   },
   "outputs": [
    {
     "name": "stdout",
     "output_type": "stream",
     "text": [
      "X_train Shape : (120000, 173)\n",
      "Y_train Shape : (120000,)\n",
      "X_test  Shape : (30000, 173)\n",
      "Y_test  Shape : (30000,)\n"
     ]
    }
   ],
   "source": [
    "print(f\"X_train Shape : {X_train.shape}\")\n",
    "print(f\"Y_train Shape : {y_train.shape}\")\n",
    "print(f\"X_test  Shape : {X_test.shape}\")\n",
    "print(f\"Y_test  Shape : {y_test.shape}\")"
   ]
  },
  {
   "cell_type": "markdown",
   "id": "c42b9c04",
   "metadata": {
    "papermill": {
     "duration": 0.00789,
     "end_time": "2024-05-03T16:44:10.516911",
     "exception": false,
     "start_time": "2024-05-03T16:44:10.509021",
     "status": "completed"
    },
    "tags": []
   },
   "source": [
    "Logistic Regression Model"
   ]
  },
  {
   "cell_type": "code",
   "execution_count": 12,
   "id": "d942faec",
   "metadata": {
    "execution": {
     "iopub.execute_input": "2024-05-03T16:44:10.535321Z",
     "iopub.status.busy": "2024-05-03T16:44:10.534658Z",
     "iopub.status.idle": "2024-05-03T16:44:22.833205Z",
     "shell.execute_reply": "2024-05-03T16:44:22.832129Z"
    },
    "papermill": {
     "duration": 12.310765,
     "end_time": "2024-05-03T16:44:22.835708",
     "exception": false,
     "start_time": "2024-05-03T16:44:10.524943",
     "status": "completed"
    },
    "tags": []
   },
   "outputs": [],
   "source": [
    "from sklearn.linear_model import LogisticRegression\n",
    "\n",
    "classifier1 = LogisticRegression(max_iter=1000, random_state=24)\n",
    "classifier1.fit(X_train, y_train)\n",
    "y_pred1 = classifier1.predict(X_test)"
   ]
  },
  {
   "cell_type": "code",
   "execution_count": 13,
   "id": "15a28175",
   "metadata": {
    "execution": {
     "iopub.execute_input": "2024-05-03T16:44:22.854042Z",
     "iopub.status.busy": "2024-05-03T16:44:22.853674Z",
     "iopub.status.idle": "2024-05-03T16:44:22.864656Z",
     "shell.execute_reply": "2024-05-03T16:44:22.863514Z"
    },
    "papermill": {
     "duration": 0.022391,
     "end_time": "2024-05-03T16:44:22.866765",
     "exception": false,
     "start_time": "2024-05-03T16:44:22.844374",
     "status": "completed"
    },
    "tags": []
   },
   "outputs": [
    {
     "name": "stdout",
     "output_type": "stream",
     "text": [
      "[[21651    81   179    46]\n",
      " [  387  1104   297    11]\n",
      " [  271    50  5193    19]\n",
      " [  174    73   150   314]]\n"
     ]
    }
   ],
   "source": [
    "from sklearn.metrics import confusion_matrix\n",
    "cm1 = confusion_matrix(y_test, y_pred1)\n",
    "print(cm1)"
   ]
  },
  {
   "cell_type": "markdown",
   "id": "b3fb5bd7",
   "metadata": {
    "papermill": {
     "duration": 0.007752,
     "end_time": "2024-05-03T16:44:22.882692",
     "exception": false,
     "start_time": "2024-05-03T16:44:22.874940",
     "status": "completed"
    },
    "tags": []
   },
   "source": [
    "KNeighborsClassifier"
   ]
  },
  {
   "cell_type": "code",
   "execution_count": 14,
   "id": "941bbb6a",
   "metadata": {
    "execution": {
     "iopub.execute_input": "2024-05-03T16:44:22.900715Z",
     "iopub.status.busy": "2024-05-03T16:44:22.900327Z",
     "iopub.status.idle": "2024-05-03T17:07:12.037259Z",
     "shell.execute_reply": "2024-05-03T17:07:12.036023Z"
    },
    "papermill": {
     "duration": 1369.149,
     "end_time": "2024-05-03T17:07:12.039975",
     "exception": false,
     "start_time": "2024-05-03T16:44:22.890975",
     "status": "completed"
    },
    "tags": []
   },
   "outputs": [],
   "source": [
    "from sklearn.neighbors import KNeighborsClassifier\n",
    "\n",
    "classifier2 = KNeighborsClassifier(metric='euclidean')\n",
    "classifier2.fit(X_train, y_train)\n",
    "y_pred2 = classifier2.predict(X_test)"
   ]
  },
  {
   "cell_type": "code",
   "execution_count": 15,
   "id": "d5aa1e9a",
   "metadata": {
    "execution": {
     "iopub.execute_input": "2024-05-03T17:07:12.058141Z",
     "iopub.status.busy": "2024-05-03T17:07:12.057781Z",
     "iopub.status.idle": "2024-05-03T17:07:12.068867Z",
     "shell.execute_reply": "2024-05-03T17:07:12.067688Z"
    },
    "papermill": {
     "duration": 0.022348,
     "end_time": "2024-05-03T17:07:12.070916",
     "exception": false,
     "start_time": "2024-05-03T17:07:12.048568",
     "status": "completed"
    },
    "tags": []
   },
   "outputs": [
    {
     "name": "stdout",
     "output_type": "stream",
     "text": [
      "[[21487    80   364    26]\n",
      " [  944   696   148    11]\n",
      " [  148    13  5355    17]\n",
      " [   93    26    26   566]]\n"
     ]
    }
   ],
   "source": [
    "from sklearn.metrics import confusion_matrix\n",
    "\n",
    "cm2 = confusion_matrix(y_test, y_pred2)\n",
    "print(cm2)"
   ]
  },
  {
   "cell_type": "markdown",
   "id": "63309a8c",
   "metadata": {
    "papermill": {
     "duration": 0.007988,
     "end_time": "2024-05-03T17:07:12.087935",
     "exception": false,
     "start_time": "2024-05-03T17:07:12.079947",
     "status": "completed"
    },
    "tags": []
   },
   "source": [
    "MultinomialNB"
   ]
  },
  {
   "cell_type": "code",
   "execution_count": 16,
   "id": "34193c22",
   "metadata": {
    "execution": {
     "iopub.execute_input": "2024-05-03T17:07:12.105902Z",
     "iopub.status.busy": "2024-05-03T17:07:12.105531Z",
     "iopub.status.idle": "2024-05-03T17:07:12.165682Z",
     "shell.execute_reply": "2024-05-03T17:07:12.164579Z"
    },
    "papermill": {
     "duration": 0.071958,
     "end_time": "2024-05-03T17:07:12.168106",
     "exception": false,
     "start_time": "2024-05-03T17:07:12.096148",
     "status": "completed"
    },
    "tags": []
   },
   "outputs": [],
   "source": [
    "from sklearn.naive_bayes import MultinomialNB\n",
    "\n",
    "classifier3 = MultinomialNB()\n",
    "classifier3.fit(X_train, y_train)\n",
    "y_pred3 = classifier3.predict(X_test)"
   ]
  },
  {
   "cell_type": "code",
   "execution_count": 17,
   "id": "f7f70627",
   "metadata": {
    "execution": {
     "iopub.execute_input": "2024-05-03T17:07:12.187119Z",
     "iopub.status.busy": "2024-05-03T17:07:12.186774Z",
     "iopub.status.idle": "2024-05-03T17:07:12.197016Z",
     "shell.execute_reply": "2024-05-03T17:07:12.195760Z"
    },
    "papermill": {
     "duration": 0.02212,
     "end_time": "2024-05-03T17:07:12.199186",
     "exception": false,
     "start_time": "2024-05-03T17:07:12.177066",
     "status": "completed"
    },
    "tags": []
   },
   "outputs": [
    {
     "name": "stdout",
     "output_type": "stream",
     "text": [
      "[[21771     0   116    70]\n",
      " [ 1787     1    11     0]\n",
      " [ 3112     0  2420     1]\n",
      " [  414     0    68   229]]\n"
     ]
    }
   ],
   "source": [
    "cm3 = confusion_matrix(y_test, y_pred3)\n",
    "print(cm3)"
   ]
  },
  {
   "cell_type": "markdown",
   "id": "62f80eed",
   "metadata": {
    "papermill": {
     "duration": 0.008212,
     "end_time": "2024-05-03T17:07:12.215854",
     "exception": false,
     "start_time": "2024-05-03T17:07:12.207642",
     "status": "completed"
    },
    "tags": []
   },
   "source": [
    "DecisionTreeClassifier"
   ]
  },
  {
   "cell_type": "code",
   "execution_count": 18,
   "id": "4a974713",
   "metadata": {
    "execution": {
     "iopub.execute_input": "2024-05-03T17:07:12.234465Z",
     "iopub.status.busy": "2024-05-03T17:07:12.234087Z",
     "iopub.status.idle": "2024-05-03T17:07:24.028536Z",
     "shell.execute_reply": "2024-05-03T17:07:24.027440Z"
    },
    "papermill": {
     "duration": 11.806642,
     "end_time": "2024-05-03T17:07:24.031004",
     "exception": false,
     "start_time": "2024-05-03T17:07:12.224362",
     "status": "completed"
    },
    "tags": []
   },
   "outputs": [],
   "source": [
    "from sklearn.tree import DecisionTreeClassifier \n",
    "\n",
    "classifier4 = DecisionTreeClassifier(criterion = 'entropy', random_state=22)\n",
    "classifier4.fit(X_train, y_train)\n",
    "y_pred4 = classifier4.predict(X_test)"
   ]
  },
  {
   "cell_type": "code",
   "execution_count": 19,
   "id": "0233755d",
   "metadata": {
    "execution": {
     "iopub.execute_input": "2024-05-03T17:07:24.049230Z",
     "iopub.status.busy": "2024-05-03T17:07:24.048899Z",
     "iopub.status.idle": "2024-05-03T17:07:24.059927Z",
     "shell.execute_reply": "2024-05-03T17:07:24.058877Z"
    },
    "papermill": {
     "duration": 0.022387,
     "end_time": "2024-05-03T17:07:24.061948",
     "exception": false,
     "start_time": "2024-05-03T17:07:24.039561",
     "status": "completed"
    },
    "tags": []
   },
   "outputs": [
    {
     "name": "stdout",
     "output_type": "stream",
     "text": [
      "[[21788    29    98    42]\n",
      " [   31  1542   149    77]\n",
      " [   82   141  5277    33]\n",
      " [   27    67    24   593]]\n"
     ]
    }
   ],
   "source": [
    "cm4 = confusion_matrix(y_test, y_pred4)\n",
    "print(cm4)"
   ]
  },
  {
   "cell_type": "markdown",
   "id": "7e020ede",
   "metadata": {
    "papermill": {
     "duration": 0.008119,
     "end_time": "2024-05-03T17:07:24.078546",
     "exception": false,
     "start_time": "2024-05-03T17:07:24.070427",
     "status": "completed"
    },
    "tags": []
   },
   "source": [
    "RandomForestClassifier"
   ]
  },
  {
   "cell_type": "code",
   "execution_count": 20,
   "id": "ab31b9b1",
   "metadata": {
    "execution": {
     "iopub.execute_input": "2024-05-03T17:07:24.096955Z",
     "iopub.status.busy": "2024-05-03T17:07:24.096605Z",
     "iopub.status.idle": "2024-05-03T17:10:10.694215Z",
     "shell.execute_reply": "2024-05-03T17:10:10.693166Z"
    },
    "papermill": {
     "duration": 166.609612,
     "end_time": "2024-05-03T17:10:10.696858",
     "exception": false,
     "start_time": "2024-05-03T17:07:24.087246",
     "status": "completed"
    },
    "tags": []
   },
   "outputs": [],
   "source": [
    "from sklearn import metrics\n",
    "from sklearn.ensemble import RandomForestClassifier\n",
    "classifier5 = RandomForestClassifier(n_estimators=100,max_features='sqrt')\n",
    "classifier5.fit(X_train,y_train)\n",
    "y_pred5 = classifier5.predict(X_test)"
   ]
  },
  {
   "cell_type": "code",
   "execution_count": 21,
   "id": "0a65dff8",
   "metadata": {
    "execution": {
     "iopub.execute_input": "2024-05-03T17:10:10.716546Z",
     "iopub.status.busy": "2024-05-03T17:10:10.716148Z",
     "iopub.status.idle": "2024-05-03T17:10:10.727477Z",
     "shell.execute_reply": "2024-05-03T17:10:10.726179Z"
    },
    "papermill": {
     "duration": 0.023597,
     "end_time": "2024-05-03T17:10:10.729753",
     "exception": false,
     "start_time": "2024-05-03T17:10:10.706156",
     "status": "completed"
    },
    "tags": []
   },
   "outputs": [
    {
     "name": "stdout",
     "output_type": "stream",
     "text": [
      "[[21927     0    30     0]\n",
      " [   67  1510   222     0]\n",
      " [   99     1  5433     0]\n",
      " [   58    68    28   557]]\n"
     ]
    }
   ],
   "source": [
    "cm5 = confusion_matrix(y_test, y_pred5)\n",
    "print(cm5)"
   ]
  },
  {
   "cell_type": "markdown",
   "id": "b0a67808",
   "metadata": {
    "papermill": {
     "duration": 0.008481,
     "end_time": "2024-05-03T17:10:10.747030",
     "exception": false,
     "start_time": "2024-05-03T17:10:10.738549",
     "status": "completed"
    },
    "tags": []
   },
   "source": [
    "XGBClassifier"
   ]
  },
  {
   "cell_type": "code",
   "execution_count": 22,
   "id": "562860a6",
   "metadata": {
    "execution": {
     "iopub.execute_input": "2024-05-03T17:10:10.765951Z",
     "iopub.status.busy": "2024-05-03T17:10:10.765598Z",
     "iopub.status.idle": "2024-05-03T17:10:23.367990Z",
     "shell.execute_reply": "2024-05-03T17:10:23.367141Z"
    },
    "papermill": {
     "duration": 12.614725,
     "end_time": "2024-05-03T17:10:23.370352",
     "exception": false,
     "start_time": "2024-05-03T17:10:10.755627",
     "status": "completed"
    },
    "tags": []
   },
   "outputs": [],
   "source": [
    "from xgboost import XGBClassifier\n",
    "\n",
    "# Assuming X_train and y_train are DataFrame objects\n",
    "classifier6 = XGBClassifier(random_state=32)\n",
    "classifier6.fit(X_train, y_train)\n",
    "y_pred6 = classifier6.predict(X_test)\n"
   ]
  },
  {
   "cell_type": "code",
   "execution_count": 23,
   "id": "ffcab84b",
   "metadata": {
    "execution": {
     "iopub.execute_input": "2024-05-03T17:10:23.447809Z",
     "iopub.status.busy": "2024-05-03T17:10:23.447426Z",
     "iopub.status.idle": "2024-05-03T17:10:23.458321Z",
     "shell.execute_reply": "2024-05-03T17:10:23.457026Z"
    },
    "papermill": {
     "duration": 0.081061,
     "end_time": "2024-05-03T17:10:23.460249",
     "exception": false,
     "start_time": "2024-05-03T17:10:23.379188",
     "status": "completed"
    },
    "tags": []
   },
   "outputs": [
    {
     "name": "stdout",
     "output_type": "stream",
     "text": [
      "[[21901     7    44     5]\n",
      " [   14  1654   122     9]\n",
      " [   39    16  5475     3]\n",
      " [   36    72    23   580]]\n"
     ]
    }
   ],
   "source": [
    "cm6 = confusion_matrix(y_test, y_pred6)\n",
    "print(cm6)"
   ]
  },
  {
   "cell_type": "markdown",
   "id": "fa7d4ef6",
   "metadata": {
    "papermill": {
     "duration": 0.008503,
     "end_time": "2024-05-03T17:10:23.477690",
     "exception": false,
     "start_time": "2024-05-03T17:10:23.469187",
     "status": "completed"
    },
    "tags": []
   },
   "source": [
    "Performance mertics"
   ]
  },
  {
   "cell_type": "code",
   "execution_count": 24,
   "id": "bc37bace",
   "metadata": {
    "execution": {
     "iopub.execute_input": "2024-05-03T17:10:23.496890Z",
     "iopub.status.busy": "2024-05-03T17:10:23.496541Z",
     "iopub.status.idle": "2024-05-03T17:10:24.006495Z",
     "shell.execute_reply": "2024-05-03T17:10:24.005463Z"
    },
    "papermill": {
     "duration": 0.522164,
     "end_time": "2024-05-03T17:10:24.008682",
     "exception": false,
     "start_time": "2024-05-03T17:10:23.486518",
     "status": "completed"
    },
    "tags": []
   },
   "outputs": [
    {
     "name": "stdout",
     "output_type": "stream",
     "text": [
      "\n",
      "Metrics for Model 'LogisticRegression':\n",
      "Accuracy: 0.9420666666666667\n",
      "Precision: 0.93910335586769\n",
      "Recall: 0.9420666666666667\n",
      "F1-score: 0.9380305492587265\n",
      "Classification Report:\n",
      "              precision    recall  f1-score   support\n",
      "\n",
      "           0       0.96      0.99      0.97     21957\n",
      "           1       0.84      0.61      0.71      1799\n",
      "           2       0.89      0.94      0.91      5533\n",
      "           3       0.81      0.44      0.57       711\n",
      "\n",
      "    accuracy                           0.94     30000\n",
      "   macro avg       0.88      0.74      0.79     30000\n",
      "weighted avg       0.94      0.94      0.94     30000\n",
      "\n",
      "\n",
      "Metrics for Model 'KNeighborsClassifier':\n",
      "Accuracy: 0.9368\n",
      "Precision: 0.9340878406167985\n",
      "Recall: 0.9368\n",
      "F1-score: 0.9297244194297466\n",
      "Classification Report:\n",
      "              precision    recall  f1-score   support\n",
      "\n",
      "           0       0.95      0.98      0.96     21957\n",
      "           1       0.85      0.39      0.53      1799\n",
      "           2       0.91      0.97      0.94      5533\n",
      "           3       0.91      0.80      0.85       711\n",
      "\n",
      "    accuracy                           0.94     30000\n",
      "   macro avg       0.91      0.78      0.82     30000\n",
      "weighted avg       0.93      0.94      0.93     30000\n",
      "\n",
      "\n",
      "Metrics for Model 'MultinomialNB':\n",
      "Accuracy: 0.8140333333333334\n",
      "Precision: 0.8370628672775838\n",
      "Recall: 0.8140333333333334\n",
      "F1-score: 0.7701900854870153\n",
      "Classification Report:\n",
      "              precision    recall  f1-score   support\n",
      "\n",
      "           0       0.80      0.99      0.89     21957\n",
      "           1       1.00      0.00      0.00      1799\n",
      "           2       0.93      0.44      0.59      5533\n",
      "           3       0.76      0.32      0.45       711\n",
      "\n",
      "    accuracy                           0.81     30000\n",
      "   macro avg       0.87      0.44      0.48     30000\n",
      "weighted avg       0.84      0.81      0.77     30000\n",
      "\n",
      "\n",
      "Metrics for Model 'DecisionTreeClassifier':\n",
      "Accuracy: 0.9733333333333334\n",
      "Precision: 0.9734940013200599\n",
      "Recall: 0.9733333333333334\n",
      "F1-score: 0.9734008802729052\n",
      "Classification Report:\n",
      "              precision    recall  f1-score   support\n",
      "\n",
      "           0       0.99      0.99      0.99     21957\n",
      "           1       0.87      0.86      0.86      1799\n",
      "           2       0.95      0.95      0.95      5533\n",
      "           3       0.80      0.83      0.81       711\n",
      "\n",
      "    accuracy                           0.97     30000\n",
      "   macro avg       0.90      0.91      0.91     30000\n",
      "weighted avg       0.97      0.97      0.97     30000\n",
      "\n",
      "\n",
      "Metrics for Model 'RandomForestClassifier':\n",
      "Accuracy: 0.9809\n",
      "Precision: 0.9809390037665311\n",
      "Recall: 0.9809\n",
      "F1-score: 0.9803196714687497\n",
      "Classification Report:\n",
      "              precision    recall  f1-score   support\n",
      "\n",
      "           0       0.99      1.00      0.99     21957\n",
      "           1       0.96      0.84      0.89      1799\n",
      "           2       0.95      0.98      0.97      5533\n",
      "           3       1.00      0.78      0.88       711\n",
      "\n",
      "    accuracy                           0.98     30000\n",
      "   macro avg       0.97      0.90      0.93     30000\n",
      "weighted avg       0.98      0.98      0.98     30000\n",
      "\n",
      "\n",
      "Metrics for Model 'XGBClassifier':\n",
      "Accuracy: 0.987\n",
      "Precision: 0.9869514261435006\n",
      "Recall: 0.987\n",
      "F1-score: 0.9867786233890724\n",
      "Classification Report:\n",
      "              precision    recall  f1-score   support\n",
      "\n",
      "           0       1.00      1.00      1.00     21957\n",
      "           1       0.95      0.92      0.93      1799\n",
      "           2       0.97      0.99      0.98      5533\n",
      "           3       0.97      0.82      0.89       711\n",
      "\n",
      "    accuracy                           0.99     30000\n",
      "   macro avg       0.97      0.93      0.95     30000\n",
      "weighted avg       0.99      0.99      0.99     30000\n",
      "\n"
     ]
    }
   ],
   "source": [
    "from sklearn.metrics import classification_report, precision_score, recall_score, f1_score, accuracy_score\n",
    "\n",
    "# Assuming you have imported the classifiers and defined their predictions\n",
    "classifiers = [y_pred1, y_pred2, y_pred3, y_pred4, y_pred5, y_pred6]\n",
    "model_names = ['LogisticRegression', 'KNeighborsClassifier', 'MultinomialNB', 'DecisionTreeClassifier', 'RandomForestClassifier', 'XGBClassifier']\n",
    "\n",
    "# Create a dictionary to map model names to their respective predictions\n",
    "classifier_map = dict(zip(model_names, classifiers))\n",
    "\n",
    "# Now you can use this dictionary to iterate over each model name and its predictions\n",
    "for model_name, y_pred in classifier_map.items():\n",
    "    accuracy = accuracy_score(y_test, y_pred) \n",
    "    precision = precision_score(y_test, y_pred, average='weighted')\n",
    "    recall = recall_score(y_test, y_pred, average='weighted')\n",
    "    f1score = f1_score(y_test, y_pred, average='weighted')\n",
    "    class_report = classification_report(y_test, y_pred) \n",
    "    \n",
    "    print(f\"\\nMetrics for Model '{model_name}':\")\n",
    "    print(f\"Accuracy: {accuracy}\")\n",
    "    print(f\"Precision: {precision}\")\n",
    "    print(f\"Recall: {recall}\")\n",
    "    print(f\"F1-score: {f1score}\")\n",
    "    print(f\"Classification Report:\\n{class_report}\")\n"
   ]
  },
  {
   "cell_type": "markdown",
   "id": "fe17f49b",
   "metadata": {
    "papermill": {
     "duration": 0.009036,
     "end_time": "2024-05-03T17:10:24.027151",
     "exception": false,
     "start_time": "2024-05-03T17:10:24.018115",
     "status": "completed"
    },
    "tags": []
   },
   "source": [
    "Results on bar plot"
   ]
  },
  {
   "cell_type": "code",
   "execution_count": 25,
   "id": "c0c4490b",
   "metadata": {
    "execution": {
     "iopub.execute_input": "2024-05-03T17:10:24.047175Z",
     "iopub.status.busy": "2024-05-03T17:10:24.046843Z",
     "iopub.status.idle": "2024-05-03T17:10:24.581194Z",
     "shell.execute_reply": "2024-05-03T17:10:24.580095Z"
    },
    "papermill": {
     "duration": 0.547275,
     "end_time": "2024-05-03T17:10:24.583635",
     "exception": false,
     "start_time": "2024-05-03T17:10:24.036360",
     "status": "completed"
    },
    "tags": []
   },
   "outputs": [
    {
     "data": {
      "image/png": "[encoded data removed]",
      "text/plain": [
       "<Figure size 1400x600 with 1 Axes>"
      ]
     },
     "metadata": {},
     "output_type": "display_data"
    }
   ],
   "source": [
    "import numpy as np\n",
    "import matplotlib.pyplot as plt\n",
    "\n",
    "# Initialize data for the bar chart\n",
    "models = list(classifier_map.keys())\n",
    "metrics = ['Accuracy', 'Precision', 'Recall', 'F1-score']\n",
    "\n",
    "# Calculate metric scores for each model\n",
    "metric_scores = {}\n",
    "for metric in metrics:\n",
    "    metric_scores[metric] = [accuracy_score(y_test, classifier_map[model_name]) if metric == 'Accuracy'\n",
    "                             else precision_score(y_test, classifier_map[model_name], average='weighted') if metric == 'Precision'\n",
    "                             else recall_score(y_test, classifier_map[model_name], average='weighted') if metric == 'Recall'\n",
    "                             else f1_score(y_test, classifier_map[model_name], average='weighted') for model_name in models]\n",
    "\n",
    "# Set width of bars\n",
    "bar_width = 0.2\n",
    "\n",
    "# Set position of bars on X axis\n",
    "r1 = np.arange(len(models))\n",
    "r2 = [x + bar_width for x in r1]\n",
    "r3 = [x + bar_width for x in r2]\n",
    "r4 = [x + bar_width for x in r3]\n",
    "\n",
    "plt.figure(figsize=(14, 6))\n",
    "\n",
    "# Define light colors\n",
    "colors = ['#add8e6', '#ffcc99', '#90ee90', '#ffb6c1']\n",
    "\n",
    "# Plotting the bars\n",
    "plt.bar(r1, metric_scores['Accuracy'], color=colors[0], width=bar_width, edgecolor='grey', label='Accuracy')\n",
    "plt.bar(r2, metric_scores['Precision'], color=colors[1], width=bar_width, edgecolor='grey', label='Precision')\n",
    "plt.bar(r3, metric_scores['Recall'], color=colors[2], width=bar_width, edgecolor='grey', label='Recall')\n",
    "plt.bar(r4, metric_scores['F1-score'], color=colors[3], width=bar_width, edgecolor='grey', label='F1-score')\n",
    "\n",
    "# Add xticks on the middle of the group bars\n",
    "plt.xlabel('Models', fontweight='bold')\n",
    "plt.xticks([r + bar_width*1.5 for r in range(len(models))], models)\n",
    "\n",
    "# Set y-axis limits\n",
    "plt.ylim(0.6, 1.0)\n",
    "\n",
    "# Add a legend and show the plot\n",
    "plt.legend()\n",
    "plt.show()\n"
   ]
  },
  {
   "cell_type": "markdown",
   "id": "c9d070df",
   "metadata": {
    "papermill": {
     "duration": 0.010144,
     "end_time": "2024-05-03T17:10:24.604004",
     "exception": false,
     "start_time": "2024-05-03T17:10:24.593860",
     "status": "completed"
    },
    "tags": []
   },
   "source": [
    "Results on line plot"
   ]
  },
  {
   "cell_type": "code",
   "execution_count": 26,
   "id": "ec75a77f",
   "metadata": {
    "execution": {
     "iopub.execute_input": "2024-05-03T17:10:24.627123Z",
     "iopub.status.busy": "2024-05-03T17:10:24.626496Z",
     "iopub.status.idle": "2024-05-03T17:10:25.168143Z",
     "shell.execute_reply": "2024-05-03T17:10:25.167048Z"
    },
    "papermill": {
     "duration": 0.557022,
     "end_time": "2024-05-03T17:10:25.171138",
     "exception": false,
     "start_time": "2024-05-03T17:10:24.614116",
     "status": "completed"
    },
    "tags": []
   },
   "outputs": [
    {
     "data": {
      "image/png": "[encoded data removed]",
      "text/plain": [
       "<Figure size 1000x600 with 1 Axes>"
      ]
     },
     "metadata": {},
     "output_type": "display_data"
    }
   ],
   "source": [
    "import matplotlib.pyplot as plt\n",
    "\n",
    "# Initialize data for the line plot\n",
    "models = list(classifier_map.keys())\n",
    "metrics = ['Accuracy', 'Precision', 'Recall', 'F1-score']\n",
    "\n",
    "# Calculate metric scores for each model\n",
    "metric_scores = {}\n",
    "for metric in metrics:\n",
    "    metric_scores[metric] = [accuracy_score(y_test, classifier_map[model_name]) if metric == 'Accuracy'\n",
    "                             else precision_score(y_test, classifier_map[model_name], average='weighted') if metric == 'Precision'\n",
    "                             else recall_score(y_test, classifier_map[model_name], average='weighted') if metric == 'Recall'\n",
    "                             else f1_score(y_test, classifier_map[model_name], average='weighted') for model_name in models]\n",
    "\n",
    "# Plotting the line plot\n",
    "plt.figure(figsize=(10, 6))\n",
    "\n",
    "for metric in metrics:\n",
    "    plt.plot(models, metric_scores[metric], marker='o', label=metric)\n",
    "\n",
    "plt.title('Performance Metrics of Different Models Using TF-IDF')\n",
    "plt.xlabel('Models')\n",
    "plt.ylabel('Score')\n",
    "plt.ylim(0.6, 1.0)\n",
    "plt.legend()\n",
    "plt.grid(True)\n",
    "plt.xticks(rotation=45)\n",
    "plt.tight_layout()\n",
    "plt.show()\n"
   ]
  }
 ],
 "metadata": {
  "kaggle": {
   "accelerator": "none",
   "dataSources": [
    {
     "datasetId": 1486586,
     "sourceId": 2456026,
     "sourceType": "datasetVersion"
    }
   ],
   "dockerImageVersionId": 30698,
   "isGpuEnabled": false,
   "isInternetEnabled": true,
   "language": "python",
   "sourceType": "notebook"
  },
  "kernelspec": {
   "display_name": "Python 3",
   "language": "python",
   "name": "python3"
  },
  "language_info": {
   "codemirror_mode": {
    "name": "ipython",
    "version": 3
   },
   "file_extension": ".py",
   "mimetype": "text/x-python",
   "name": "python",
   "nbconvert_exporter": "python",
   "pygments_lexer": "ipython3",
   "version": "3.10.13"
  },
  "papermill": {
   "default_parameters": {},
   "duration": 1584.077967,
   "end_time": "2024-05-03T17:10:25.806541",
   "environment_variables": {},
   "exception": null,
   "input_path": "__notebook__.ipynb",
   "output_path": "__notebook__.ipynb",
   "parameters": {},
   "start_time": "2024-05-03T16:44:01.728574",
   "version": "2.5.0"
  }
 },
 "nbformat": 4,
 "nbformat_minor": 5
}
