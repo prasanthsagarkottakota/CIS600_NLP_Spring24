{
 "cells": [
  {
   "cell_type": "raw",
   "id": "1e0381bb",
   "metadata": {
    "_cell_guid": "b1076dfc-b9ad-4769-8c92-a6c4dae69d19",
    "_uuid": "8f2839f25d086af736a60e9eeb907d3b93b6e0e5",
    "papermill": {
     "duration": 0.007606,
     "end_time": "2024-05-03T17:20:32.684537",
     "exception": false,
     "start_time": "2024-05-03T17:20:32.676931",
     "status": "completed"
    },
    "tags": []
   },
   "source": [
    "# This Python 3 environment comes with many helpful analytics libraries installed\n",
    "# It is defined by the kaggle/python Docker image: https://github.com/kaggle/docker-python\n",
    "# For example, here's several helpful packages to load\n",
    "\n",
    "import numpy as np # linear algebra\n",
    "import pandas as pd # data processing, CSV file I/O (e.g. pd.read_csv)\n",
    "\n",
    "# Input data files are available in the read-only \"../input/\" directory\n",
    "# For example, running this (by clicking run or pressing Shift+Enter) will list all files under the input directory\n",
    "\n",
    "import os\n",
    "for dirname, _, filenames in os.walk('/kaggle/input'):\n",
    "    for filename in filenames:\n",
    "        print(os.path.join(dirname, filename))\n",
    "\n",
    "# You can write up to 20GB to the current directory (/kaggle/working/) that gets preserved as output when you create a version using \"Save & Run All\" \n",
    "# You can also write temporary files to /kaggle/temp/, but they won't be saved outside of the current session"
   ]
  },
  {
   "cell_type": "markdown",
   "id": "6af1ff6c",
   "metadata": {
    "papermill": {
     "duration": 0.006562,
     "end_time": "2024-05-03T17:20:32.698085",
     "exception": false,
     "start_time": "2024-05-03T17:20:32.691523",
     "status": "completed"
    },
    "tags": []
   },
   "source": [
    "Import Required Libraries"
   ]
  },
  {
   "cell_type": "code",
   "execution_count": 1,
   "id": "c2f26590",
   "metadata": {
    "execution": {
     "iopub.execute_input": "2024-05-03T17:20:32.713559Z",
     "iopub.status.busy": "2024-05-03T17:20:32.713151Z",
     "iopub.status.idle": "2024-05-03T17:20:35.701446Z",
     "shell.execute_reply": "2024-05-03T17:20:35.700356Z"
    },
    "papermill": {
     "duration": 2.999138,
     "end_time": "2024-05-03T17:20:35.703997",
     "exception": false,
     "start_time": "2024-05-03T17:20:32.704859",
     "status": "completed"
    },
    "tags": []
   },
   "outputs": [],
   "source": [
    "import pandas as pd\n",
    "from sklearn.preprocessing import LabelEncoder, OneHotEncoder\n",
    "from sklearn.feature_extraction.text import CountVectorizer\n",
    "from sklearn.model_selection import train_test_split\n",
    "from sklearn.ensemble import RandomForestClassifier\n",
    "from sklearn.metrics import accuracy_score"
   ]
  },
  {
   "cell_type": "markdown",
   "id": "5a9f8a6b",
   "metadata": {
    "papermill": {
     "duration": 0.007175,
     "end_time": "2024-05-03T17:20:35.718925",
     "exception": false,
     "start_time": "2024-05-03T17:20:35.711750",
     "status": "completed"
    },
    "tags": []
   },
   "source": [
    "Load data"
   ]
  },
  {
   "cell_type": "code",
   "execution_count": 2,
   "id": "11a3a18e",
   "metadata": {
    "execution": {
     "iopub.execute_input": "2024-05-03T17:20:35.735613Z",
     "iopub.status.busy": "2024-05-03T17:20:35.734971Z",
     "iopub.status.idle": "2024-05-03T17:20:36.088025Z",
     "shell.execute_reply": "2024-05-03T17:20:36.086808Z"
    },
    "papermill": {
     "duration": 0.364175,
     "end_time": "2024-05-03T17:20:36.090503",
     "exception": false,
     "start_time": "2024-05-03T17:20:35.726328",
     "status": "completed"
    },
    "tags": []
   },
   "outputs": [],
   "source": [
    "# Load data\n",
    "data = pd.read_csv(\"/kaggle/input/malicious-urls-dataset/malicious_phish.csv\", nrows = 150000)"
   ]
  },
  {
   "cell_type": "markdown",
   "id": "8875f897",
   "metadata": {
    "papermill": {
     "duration": 0.006354,
     "end_time": "2024-05-03T17:20:36.104172",
     "exception": false,
     "start_time": "2024-05-03T17:20:36.097818",
     "status": "completed"
    },
    "tags": []
   },
   "source": [
    "Data Preprocessing"
   ]
  },
  {
   "cell_type": "code",
   "execution_count": 3,
   "id": "6641378d",
   "metadata": {
    "execution": {
     "iopub.execute_input": "2024-05-03T17:20:36.118980Z",
     "iopub.status.busy": "2024-05-03T17:20:36.118660Z",
     "iopub.status.idle": "2024-05-03T17:20:36.139196Z",
     "shell.execute_reply": "2024-05-03T17:20:36.138132Z"
    },
    "papermill": {
     "duration": 0.030733,
     "end_time": "2024-05-03T17:20:36.141550",
     "exception": false,
     "start_time": "2024-05-03T17:20:36.110817",
     "status": "completed"
    },
    "tags": []
   },
   "outputs": [],
   "source": [
    "# Preprocessing\n",
    "# Convert types into numeric labels\n",
    "label_mapping = {\"benign\": 0, \"phishing\": 1, \"defacement\": 2, \"malware\" : 3}\n",
    "data['label'] = data['type'].map(label_mapping)"
   ]
  },
  {
   "cell_type": "markdown",
   "id": "2f0841c0",
   "metadata": {
    "papermill": {
     "duration": 0.007062,
     "end_time": "2024-05-03T17:20:36.157479",
     "exception": false,
     "start_time": "2024-05-03T17:20:36.150417",
     "status": "completed"
    },
    "tags": []
   },
   "source": [
    "Feature Engineering"
   ]
  },
  {
   "cell_type": "code",
   "execution_count": 4,
   "id": "758353ff",
   "metadata": {
    "execution": {
     "iopub.execute_input": "2024-05-03T17:20:36.174286Z",
     "iopub.status.busy": "2024-05-03T17:20:36.173826Z",
     "iopub.status.idle": "2024-05-03T17:20:39.016769Z",
     "shell.execute_reply": "2024-05-03T17:20:39.015734Z"
    },
    "papermill": {
     "duration": 2.854284,
     "end_time": "2024-05-03T17:20:39.019212",
     "exception": false,
     "start_time": "2024-05-03T17:20:36.164928",
     "status": "completed"
    },
    "tags": []
   },
   "outputs": [],
   "source": [
    "# Feature Engineering\n",
    "# Tokenize URLs into words or characters\n",
    "vectorizer = CountVectorizer(analyzer='char', lowercase=False)\n",
    "X = vectorizer.fit_transform(data['url'])\n",
    "\n",
    "# Split data into features (X) and labels (y)\n",
    "y = data['label']"
   ]
  },
  {
   "cell_type": "markdown",
   "id": "03f36da9",
   "metadata": {
    "papermill": {
     "duration": 0.006746,
     "end_time": "2024-05-03T17:20:39.033311",
     "exception": false,
     "start_time": "2024-05-03T17:20:39.026565",
     "status": "completed"
    },
    "tags": []
   },
   "source": [
    "Split the Data"
   ]
  },
  {
   "cell_type": "code",
   "execution_count": 5,
   "id": "c4c39353",
   "metadata": {
    "execution": {
     "iopub.execute_input": "2024-05-03T17:20:39.048784Z",
     "iopub.status.busy": "2024-05-03T17:20:39.048431Z",
     "iopub.status.idle": "2024-05-03T17:20:39.081904Z",
     "shell.execute_reply": "2024-05-03T17:20:39.080973Z"
    },
    "papermill": {
     "duration": 0.044156,
     "end_time": "2024-05-03T17:20:39.084381",
     "exception": false,
     "start_time": "2024-05-03T17:20:39.040225",
     "status": "completed"
    },
    "tags": []
   },
   "outputs": [],
   "source": [
    "# Split data into training and testing sets\n",
    "X_train, X_test, y_train, y_test = train_test_split(X, y, test_size=0.2, random_state=32)"
   ]
  },
  {
   "cell_type": "code",
   "execution_count": 6,
   "id": "504b3b3d",
   "metadata": {
    "execution": {
     "iopub.execute_input": "2024-05-03T17:20:39.101341Z",
     "iopub.status.busy": "2024-05-03T17:20:39.100885Z",
     "iopub.status.idle": "2024-05-03T17:20:39.109202Z",
     "shell.execute_reply": "2024-05-03T17:20:39.108221Z"
    },
    "papermill": {
     "duration": 0.018932,
     "end_time": "2024-05-03T17:20:39.110860",
     "exception": false,
     "start_time": "2024-05-03T17:20:39.091928",
     "status": "completed"
    },
    "tags": []
   },
   "outputs": [
    {
     "data": {
      "text/plain": [
       "<1x173 sparse matrix of type '<class 'numpy.int64'>'\n",
       "\twith 11 stored elements in Compressed Sparse Row format>"
      ]
     },
     "execution_count": 6,
     "metadata": {},
     "output_type": "execute_result"
    }
   ],
   "source": [
    "X[0]"
   ]
  },
  {
   "cell_type": "code",
   "execution_count": 7,
   "id": "277c078c",
   "metadata": {
    "execution": {
     "iopub.execute_input": "2024-05-03T17:20:39.126933Z",
     "iopub.status.busy": "2024-05-03T17:20:39.126493Z",
     "iopub.status.idle": "2024-05-03T17:20:39.133861Z",
     "shell.execute_reply": "2024-05-03T17:20:39.132467Z"
    },
    "papermill": {
     "duration": 0.017602,
     "end_time": "2024-05-03T17:20:39.135755",
     "exception": false,
     "start_time": "2024-05-03T17:20:39.118153",
     "status": "completed"
    },
    "tags": []
   },
   "outputs": [
    {
     "data": {
      "text/plain": [
       "<1x173 sparse matrix of type '<class 'numpy.int64'>'\n",
       "\twith 19 stored elements in Compressed Sparse Row format>"
      ]
     },
     "execution_count": 7,
     "metadata": {},
     "output_type": "execute_result"
    }
   ],
   "source": [
    "X[1]"
   ]
  },
  {
   "cell_type": "code",
   "execution_count": 8,
   "id": "2272926c",
   "metadata": {
    "execution": {
     "iopub.execute_input": "2024-05-03T17:20:39.152492Z",
     "iopub.status.busy": "2024-05-03T17:20:39.151431Z",
     "iopub.status.idle": "2024-05-03T17:20:39.158750Z",
     "shell.execute_reply": "2024-05-03T17:20:39.157394Z"
    },
    "papermill": {
     "duration": 0.018308,
     "end_time": "2024-05-03T17:20:39.161291",
     "exception": false,
     "start_time": "2024-05-03T17:20:39.142983",
     "status": "completed"
    },
    "tags": []
   },
   "outputs": [
    {
     "name": "stdout",
     "output_type": "stream",
     "text": [
      "  (0, 6)\t1\n",
      "  (0, 12)\t2\n",
      "  (0, 10)\t1\n",
      "  (0, 11)\t1\n",
      "  (0, 2)\t1\n",
      "  (0, 1)\t3\n",
      "  (0, 13)\t3\n",
      "  (0, 0)\t2\n",
      "  (0, 5)\t2\n",
      "  (0, 9)\t3\n",
      "  (0, 7)\t1\n",
      "  (0, 4)\t1\n",
      "  (0, 3)\t1\n",
      "  (0, 8)\t1\n"
     ]
    }
   ],
   "source": [
    "# An example of how the vectorizer would transform the give url\n",
    "url1 = ['https://www.google.com/']\n",
    "P = vectorizer.fit_transform(url1)\n",
    "print(P)"
   ]
  },
  {
   "cell_type": "code",
   "execution_count": 9,
   "id": "8ab30795",
   "metadata": {
    "execution": {
     "iopub.execute_input": "2024-05-03T17:20:39.178817Z",
     "iopub.status.busy": "2024-05-03T17:20:39.178389Z",
     "iopub.status.idle": "2024-05-03T17:20:39.185480Z",
     "shell.execute_reply": "2024-05-03T17:20:39.184328Z"
    },
    "papermill": {
     "duration": 0.018802,
     "end_time": "2024-05-03T17:20:39.187968",
     "exception": false,
     "start_time": "2024-05-03T17:20:39.169166",
     "status": "completed"
    },
    "tags": []
   },
   "outputs": [
    {
     "data": {
      "text/plain": [
       "scipy.sparse._csr.csr_matrix"
      ]
     },
     "execution_count": 9,
     "metadata": {},
     "output_type": "execute_result"
    }
   ],
   "source": [
    "type(P)"
   ]
  },
  {
   "cell_type": "code",
   "execution_count": 10,
   "id": "a652a42a",
   "metadata": {
    "execution": {
     "iopub.execute_input": "2024-05-03T17:20:39.205164Z",
     "iopub.status.busy": "2024-05-03T17:20:39.204835Z",
     "iopub.status.idle": "2024-05-03T17:20:39.210561Z",
     "shell.execute_reply": "2024-05-03T17:20:39.209544Z"
    },
    "papermill": {
     "duration": 0.016545,
     "end_time": "2024-05-03T17:20:39.212617",
     "exception": false,
     "start_time": "2024-05-03T17:20:39.196072",
     "status": "completed"
    },
    "tags": []
   },
   "outputs": [
    {
     "name": "stdout",
     "output_type": "stream",
     "text": [
      "X_train Shape : (120000, 173)\n",
      "Y_train Shape : (120000,)\n",
      "X_test  Shape : (30000, 173)\n",
      "Y_test  Shape : (30000,)\n"
     ]
    }
   ],
   "source": [
    "print(f\"X_train Shape : {X_train.shape}\")\n",
    "print(f\"Y_train Shape : {y_train.shape}\")\n",
    "print(f\"X_test  Shape : {X_test.shape}\")\n",
    "print(f\"Y_test  Shape : {y_test.shape}\")"
   ]
  },
  {
   "cell_type": "markdown",
   "id": "681c61d7",
   "metadata": {
    "papermill": {
     "duration": 0.011803,
     "end_time": "2024-05-03T17:20:39.232558",
     "exception": false,
     "start_time": "2024-05-03T17:20:39.220755",
     "status": "completed"
    },
    "tags": []
   },
   "source": [
    "LogisticRegression"
   ]
  },
  {
   "cell_type": "code",
   "execution_count": 11,
   "id": "f60c2a14",
   "metadata": {
    "execution": {
     "iopub.execute_input": "2024-05-03T17:20:39.253597Z",
     "iopub.status.busy": "2024-05-03T17:20:39.253175Z",
     "iopub.status.idle": "2024-05-03T17:21:19.691587Z",
     "shell.execute_reply": "2024-05-03T17:21:19.690211Z"
    },
    "papermill": {
     "duration": 40.458434,
     "end_time": "2024-05-03T17:21:19.701092",
     "exception": false,
     "start_time": "2024-05-03T17:20:39.242658",
     "status": "completed"
    },
    "tags": []
   },
   "outputs": [
    {
     "name": "stderr",
     "output_type": "stream",
     "text": [
      "/opt/conda/lib/python3.10/site-packages/sklearn/linear_model/_logistic.py:458: ConvergenceWarning: lbfgs failed to converge (status=1):\n",
      "STOP: TOTAL NO. of ITERATIONS REACHED LIMIT.\n",
      "\n",
      "Increase the number of iterations (max_iter) or scale the data as shown in:\n",
      "    https://scikit-learn.org/stable/modules/preprocessing.html\n",
      "Please also refer to the documentation for alternative solver options:\n",
      "    https://scikit-learn.org/stable/modules/linear_model.html#logistic-regression\n",
      "  n_iter_i = _check_optimize_result(\n"
     ]
    }
   ],
   "source": [
    "from sklearn.linear_model import LogisticRegression\n",
    "\n",
    "classifier1 = LogisticRegression(max_iter=1000, random_state=24)\n",
    "classifier1.fit(X_train, y_train)\n",
    "y_pred1 = classifier1.predict(X_test)"
   ]
  },
  {
   "cell_type": "code",
   "execution_count": 12,
   "id": "51a665e7",
   "metadata": {
    "execution": {
     "iopub.execute_input": "2024-05-03T17:21:19.717871Z",
     "iopub.status.busy": "2024-05-03T17:21:19.717524Z",
     "iopub.status.idle": "2024-05-03T17:21:19.728084Z",
     "shell.execute_reply": "2024-05-03T17:21:19.726693Z"
    },
    "papermill": {
     "duration": 0.021845,
     "end_time": "2024-05-03T17:21:19.730460",
     "exception": false,
     "start_time": "2024-05-03T17:21:19.708615",
     "status": "completed"
    },
    "tags": []
   },
   "outputs": [
    {
     "name": "stdout",
     "output_type": "stream",
     "text": [
      "[[21635    77   206    39]\n",
      " [  883   600   287    29]\n",
      " [  201    69  5248    15]\n",
      " [  143    41   160   367]]\n"
     ]
    }
   ],
   "source": [
    "from sklearn.metrics import confusion_matrix\n",
    "cm1 = confusion_matrix(y_test, y_pred1)\n",
    "print(cm1)"
   ]
  },
  {
   "cell_type": "markdown",
   "id": "5354c075",
   "metadata": {
    "papermill": {
     "duration": 0.007587,
     "end_time": "2024-05-03T17:21:19.745778",
     "exception": false,
     "start_time": "2024-05-03T17:21:19.738191",
     "status": "completed"
    },
    "tags": []
   },
   "source": [
    "KNeighborsClassifier"
   ]
  },
  {
   "cell_type": "code",
   "execution_count": 13,
   "id": "ccf2fe50",
   "metadata": {
    "execution": {
     "iopub.execute_input": "2024-05-03T17:21:19.762659Z",
     "iopub.status.busy": "2024-05-03T17:21:19.762308Z",
     "iopub.status.idle": "2024-05-03T17:27:07.423826Z",
     "shell.execute_reply": "2024-05-03T17:27:07.422704Z"
    },
    "papermill": {
     "duration": 347.673156,
     "end_time": "2024-05-03T17:27:07.426547",
     "exception": false,
     "start_time": "2024-05-03T17:21:19.753391",
     "status": "completed"
    },
    "tags": []
   },
   "outputs": [],
   "source": [
    "from sklearn.neighbors import KNeighborsClassifier\n",
    "\n",
    "classifier2 = KNeighborsClassifier(metric='euclidean')\n",
    "classifier2.fit(X_train, y_train)\n",
    "y_pred2 = classifier2.predict(X_test)"
   ]
  },
  {
   "cell_type": "code",
   "execution_count": 14,
   "id": "46b9c9e5",
   "metadata": {
    "execution": {
     "iopub.execute_input": "2024-05-03T17:27:07.445435Z",
     "iopub.status.busy": "2024-05-03T17:27:07.445034Z",
     "iopub.status.idle": "2024-05-03T17:27:07.456615Z",
     "shell.execute_reply": "2024-05-03T17:27:07.455089Z"
    },
    "papermill": {
     "duration": 0.023633,
     "end_time": "2024-05-03T17:27:07.459205",
     "exception": false,
     "start_time": "2024-05-03T17:27:07.435572",
     "status": "completed"
    },
    "tags": []
   },
   "outputs": [
    {
     "name": "stdout",
     "output_type": "stream",
     "text": [
      "[[21689    53   191    24]\n",
      " [  618  1005   170     6]\n",
      " [  177     8  5336    12]\n",
      " [   73    46    27   565]]\n"
     ]
    }
   ],
   "source": [
    "from sklearn.metrics import confusion_matrix\n",
    "\n",
    "cm2 = confusion_matrix(y_test, y_pred2)\n",
    "print(cm2)"
   ]
  },
  {
   "cell_type": "markdown",
   "id": "ed4031ea",
   "metadata": {
    "papermill": {
     "duration": 0.0078,
     "end_time": "2024-05-03T17:27:07.475423",
     "exception": false,
     "start_time": "2024-05-03T17:27:07.467623",
     "status": "completed"
    },
    "tags": []
   },
   "source": [
    "MultinomialNB"
   ]
  },
  {
   "cell_type": "code",
   "execution_count": 15,
   "id": "85e61a08",
   "metadata": {
    "execution": {
     "iopub.execute_input": "2024-05-03T17:27:07.493249Z",
     "iopub.status.busy": "2024-05-03T17:27:07.492876Z",
     "iopub.status.idle": "2024-05-03T17:27:07.550361Z",
     "shell.execute_reply": "2024-05-03T17:27:07.549495Z"
    },
    "papermill": {
     "duration": 0.069414,
     "end_time": "2024-05-03T17:27:07.552798",
     "exception": false,
     "start_time": "2024-05-03T17:27:07.483384",
     "status": "completed"
    },
    "tags": []
   },
   "outputs": [],
   "source": [
    "from sklearn.naive_bayes import MultinomialNB\n",
    "\n",
    "classifier3 = MultinomialNB()\n",
    "classifier3.fit(X_train, y_train)\n",
    "y_pred3 = classifier3.predict(X_test)"
   ]
  },
  {
   "cell_type": "code",
   "execution_count": 16,
   "id": "27ef95b2",
   "metadata": {
    "execution": {
     "iopub.execute_input": "2024-05-03T17:27:07.571083Z",
     "iopub.status.busy": "2024-05-03T17:27:07.570519Z",
     "iopub.status.idle": "2024-05-03T17:27:07.582337Z",
     "shell.execute_reply": "2024-05-03T17:27:07.580707Z"
    },
    "papermill": {
     "duration": 0.023477,
     "end_time": "2024-05-03T17:27:07.584420",
     "exception": false,
     "start_time": "2024-05-03T17:27:07.560943",
     "status": "completed"
    },
    "tags": []
   },
   "outputs": [
    {
     "name": "stdout",
     "output_type": "stream",
     "text": [
      "[[19704   750  1074   429]\n",
      " [ 1148   386   244    21]\n",
      " [  677   526  4329     1]\n",
      " [  155   119   158   279]]\n"
     ]
    }
   ],
   "source": [
    "cm3 = confusion_matrix(y_test, y_pred3)\n",
    "print(cm3)"
   ]
  },
  {
   "cell_type": "markdown",
   "id": "02c025cf",
   "metadata": {
    "papermill": {
     "duration": 0.007494,
     "end_time": "2024-05-03T17:27:07.599790",
     "exception": false,
     "start_time": "2024-05-03T17:27:07.592296",
     "status": "completed"
    },
    "tags": []
   },
   "source": [
    "DecisionTreeClassifier "
   ]
  },
  {
   "cell_type": "code",
   "execution_count": 17,
   "id": "8ca39bf4",
   "metadata": {
    "execution": {
     "iopub.execute_input": "2024-05-03T17:27:07.617556Z",
     "iopub.status.busy": "2024-05-03T17:27:07.616671Z",
     "iopub.status.idle": "2024-05-03T17:27:12.781066Z",
     "shell.execute_reply": "2024-05-03T17:27:12.779467Z"
    },
    "papermill": {
     "duration": 5.176404,
     "end_time": "2024-05-03T17:27:12.783853",
     "exception": false,
     "start_time": "2024-05-03T17:27:07.607449",
     "status": "completed"
    },
    "tags": []
   },
   "outputs": [],
   "source": [
    "from sklearn.tree import DecisionTreeClassifier \n",
    "\n",
    "classifier4 = DecisionTreeClassifier(criterion = 'entropy', random_state=22)\n",
    "classifier4.fit(X_train, y_train)\n",
    "y_pred4 = classifier4.predict(X_test)"
   ]
  },
  {
   "cell_type": "code",
   "execution_count": 18,
   "id": "90c8edc9",
   "metadata": {
    "execution": {
     "iopub.execute_input": "2024-05-03T17:27:12.804343Z",
     "iopub.status.busy": "2024-05-03T17:27:12.803936Z",
     "iopub.status.idle": "2024-05-03T17:27:12.815682Z",
     "shell.execute_reply": "2024-05-03T17:27:12.814164Z"
    },
    "papermill": {
     "duration": 0.025398,
     "end_time": "2024-05-03T17:27:12.818239",
     "exception": false,
     "start_time": "2024-05-03T17:27:12.792841",
     "status": "completed"
    },
    "tags": []
   },
   "outputs": [
    {
     "name": "stdout",
     "output_type": "stream",
     "text": [
      "[[21789    26   106    36]\n",
      " [   17  1550   137    95]\n",
      " [   72   120  5317    24]\n",
      " [   29    62    24   596]]\n"
     ]
    }
   ],
   "source": [
    "cm4 = confusion_matrix(y_test, y_pred4)\n",
    "print(cm4)"
   ]
  },
  {
   "cell_type": "markdown",
   "id": "7f428830",
   "metadata": {
    "papermill": {
     "duration": 0.007837,
     "end_time": "2024-05-03T17:27:12.834457",
     "exception": false,
     "start_time": "2024-05-03T17:27:12.826620",
     "status": "completed"
    },
    "tags": []
   },
   "source": [
    "RandomForestClassifier"
   ]
  },
  {
   "cell_type": "code",
   "execution_count": 19,
   "id": "ae99b6d3",
   "metadata": {
    "execution": {
     "iopub.execute_input": "2024-05-03T17:27:12.853333Z",
     "iopub.status.busy": "2024-05-03T17:27:12.852139Z",
     "iopub.status.idle": "2024-05-03T17:29:02.021217Z",
     "shell.execute_reply": "2024-05-03T17:29:02.019690Z"
    },
    "papermill": {
     "duration": 109.181359,
     "end_time": "2024-05-03T17:29:02.023889",
     "exception": false,
     "start_time": "2024-05-03T17:27:12.842530",
     "status": "completed"
    },
    "tags": []
   },
   "outputs": [],
   "source": [
    "from sklearn import metrics\n",
    "from sklearn.ensemble import RandomForestClassifier\n",
    "classifier5 = RandomForestClassifier(n_estimators=100,max_features='sqrt')\n",
    "classifier5.fit(X_train,y_train)\n",
    "y_pred5 = classifier5.predict(X_test)"
   ]
  },
  {
   "cell_type": "code",
   "execution_count": 20,
   "id": "23b26b8b",
   "metadata": {
    "execution": {
     "iopub.execute_input": "2024-05-03T17:29:02.042488Z",
     "iopub.status.busy": "2024-05-03T17:29:02.042056Z",
     "iopub.status.idle": "2024-05-03T17:29:02.053908Z",
     "shell.execute_reply": "2024-05-03T17:29:02.052634Z"
    },
    "papermill": {
     "duration": 0.023797,
     "end_time": "2024-05-03T17:29:02.056171",
     "exception": false,
     "start_time": "2024-05-03T17:29:02.032374",
     "status": "completed"
    },
    "tags": []
   },
   "outputs": [
    {
     "name": "stdout",
     "output_type": "stream",
     "text": [
      "[[21929     2    26     0]\n",
      " [   35  1574   190     0]\n",
      " [   68     4  5461     0]\n",
      " [   49    71    24   567]]\n"
     ]
    }
   ],
   "source": [
    "cm5 = confusion_matrix(y_test, y_pred5)\n",
    "print(cm5)"
   ]
  },
  {
   "cell_type": "markdown",
   "id": "2b19e327",
   "metadata": {
    "papermill": {
     "duration": 0.007697,
     "end_time": "2024-05-03T17:29:02.071833",
     "exception": false,
     "start_time": "2024-05-03T17:29:02.064136",
     "status": "completed"
    },
    "tags": []
   },
   "source": [
    "XGBClassifier"
   ]
  },
  {
   "cell_type": "code",
   "execution_count": 21,
   "id": "2d0da8fc",
   "metadata": {
    "execution": {
     "iopub.execute_input": "2024-05-03T17:29:02.089492Z",
     "iopub.status.busy": "2024-05-03T17:29:02.089083Z",
     "iopub.status.idle": "2024-05-03T17:29:06.552213Z",
     "shell.execute_reply": "2024-05-03T17:29:06.551496Z"
    },
    "papermill": {
     "duration": 4.474642,
     "end_time": "2024-05-03T17:29:06.554421",
     "exception": false,
     "start_time": "2024-05-03T17:29:02.079779",
     "status": "completed"
    },
    "tags": []
   },
   "outputs": [],
   "source": [
    "from xgboost import XGBClassifier\n",
    "\n",
    "# Assuming X_train and y_train are DataFrame objects\n",
    "classifier6 = XGBClassifier(random_state=32)\n",
    "classifier6.fit(X_train, y_train)\n",
    "y_pred6 = classifier6.predict(X_test)\n"
   ]
  },
  {
   "cell_type": "code",
   "execution_count": 22,
   "id": "17db8964",
   "metadata": {
    "execution": {
     "iopub.execute_input": "2024-05-03T17:29:06.574891Z",
     "iopub.status.busy": "2024-05-03T17:29:06.573361Z",
     "iopub.status.idle": "2024-05-03T17:29:06.583831Z",
     "shell.execute_reply": "2024-05-03T17:29:06.582827Z"
    },
    "papermill": {
     "duration": 0.022612,
     "end_time": "2024-05-03T17:29:06.585526",
     "exception": false,
     "start_time": "2024-05-03T17:29:06.562914",
     "status": "completed"
    },
    "tags": []
   },
   "outputs": [
    {
     "name": "stdout",
     "output_type": "stream",
     "text": [
      "[[21911     5    35     6]\n",
      " [    9  1675   109     6]\n",
      " [   33    18  5480     2]\n",
      " [   34    71    22   584]]\n"
     ]
    }
   ],
   "source": [
    "cm6 = confusion_matrix(y_test, y_pred6)\n",
    "print(cm6)"
   ]
  },
  {
   "cell_type": "markdown",
   "id": "2d705591",
   "metadata": {
    "papermill": {
     "duration": 0.007533,
     "end_time": "2024-05-03T17:29:06.601070",
     "exception": false,
     "start_time": "2024-05-03T17:29:06.593537",
     "status": "completed"
    },
    "tags": []
   },
   "source": [
    "Performance mertics"
   ]
  },
  {
   "cell_type": "code",
   "execution_count": 23,
   "id": "30319749",
   "metadata": {
    "execution": {
     "iopub.execute_input": "2024-05-03T17:29:06.619009Z",
     "iopub.status.busy": "2024-05-03T17:29:06.618618Z",
     "iopub.status.idle": "2024-05-03T17:29:06.980958Z",
     "shell.execute_reply": "2024-05-03T17:29:06.979345Z"
    },
    "papermill": {
     "duration": 0.374759,
     "end_time": "2024-05-03T17:29:06.983641",
     "exception": false,
     "start_time": "2024-05-03T17:29:06.608882",
     "status": "completed"
    },
    "tags": []
   },
   "outputs": [
    {
     "name": "stdout",
     "output_type": "stream",
     "text": [
      "\n",
      "Metrics for Model 'LogisticRegression':\n",
      "Accuracy: 0.9283333333333333\n",
      "Precision: 0.9216897094458811\n",
      "Recall: 0.9283333333333333\n",
      "F1-score: 0.9187180083055376\n",
      "Classification Report:\n",
      "              precision    recall  f1-score   support\n",
      "\n",
      "           0       0.95      0.99      0.97     21957\n",
      "           1       0.76      0.33      0.46      1799\n",
      "           2       0.89      0.95      0.92      5533\n",
      "           3       0.82      0.52      0.63       711\n",
      "\n",
      "    accuracy                           0.93     30000\n",
      "   macro avg       0.85      0.70      0.74     30000\n",
      "weighted avg       0.92      0.93      0.92     30000\n",
      "\n",
      "\n",
      "Metrics for Model 'KNeighborsClassifier':\n",
      "Accuracy: 0.9531666666666667\n",
      "Precision: 0.9519244601649969\n",
      "Recall: 0.9531666666666667\n",
      "F1-score: 0.9497961004109386\n",
      "Classification Report:\n",
      "              precision    recall  f1-score   support\n",
      "\n",
      "           0       0.96      0.99      0.97     21957\n",
      "           1       0.90      0.56      0.69      1799\n",
      "           2       0.93      0.96      0.95      5533\n",
      "           3       0.93      0.79      0.86       711\n",
      "\n",
      "    accuracy                           0.95     30000\n",
      "   macro avg       0.93      0.83      0.87     30000\n",
      "weighted avg       0.95      0.95      0.95     30000\n",
      "\n",
      "\n",
      "Metrics for Model 'MultinomialNB':\n",
      "Accuracy: 0.8232666666666667\n",
      "Precision: 0.8246623722548588\n",
      "Recall: 0.8232666666666667\n",
      "F1-score: 0.8238556301163101\n",
      "Classification Report:\n",
      "              precision    recall  f1-score   support\n",
      "\n",
      "           0       0.91      0.90      0.90     21957\n",
      "           1       0.22      0.21      0.22      1799\n",
      "           2       0.75      0.78      0.76      5533\n",
      "           3       0.38      0.39      0.39       711\n",
      "\n",
      "    accuracy                           0.82     30000\n",
      "   macro avg       0.56      0.57      0.57     30000\n",
      "weighted avg       0.82      0.82      0.82     30000\n",
      "\n",
      "\n",
      "Metrics for Model 'DecisionTreeClassifier':\n",
      "Accuracy: 0.9750666666666666\n",
      "Precision: 0.9752524648767733\n",
      "Recall: 0.9750666666666666\n",
      "F1-score: 0.9751334881266736\n",
      "Classification Report:\n",
      "              precision    recall  f1-score   support\n",
      "\n",
      "           0       0.99      0.99      0.99     21957\n",
      "           1       0.88      0.86      0.87      1799\n",
      "           2       0.95      0.96      0.96      5533\n",
      "           3       0.79      0.84      0.82       711\n",
      "\n",
      "    accuracy                           0.98     30000\n",
      "   macro avg       0.91      0.91      0.91     30000\n",
      "weighted avg       0.98      0.98      0.98     30000\n",
      "\n",
      "\n",
      "Metrics for Model 'RandomForestClassifier':\n",
      "Accuracy: 0.9843666666666666\n",
      "Precision: 0.9844007848205746\n",
      "Recall: 0.9843666666666666\n",
      "F1-score: 0.9839665326071676\n",
      "Classification Report:\n",
      "              precision    recall  f1-score   support\n",
      "\n",
      "           0       0.99      1.00      1.00     21957\n",
      "           1       0.95      0.87      0.91      1799\n",
      "           2       0.96      0.99      0.97      5533\n",
      "           3       1.00      0.80      0.89       711\n",
      "\n",
      "    accuracy                           0.98     30000\n",
      "   macro avg       0.98      0.91      0.94     30000\n",
      "weighted avg       0.98      0.98      0.98     30000\n",
      "\n",
      "\n",
      "Metrics for Model 'XGBClassifier':\n",
      "Accuracy: 0.9883333333333333\n",
      "Precision: 0.9883062147941688\n",
      "Recall: 0.9883333333333333\n",
      "F1-score: 0.9881382024251656\n",
      "Classification Report:\n",
      "              precision    recall  f1-score   support\n",
      "\n",
      "           0       1.00      1.00      1.00     21957\n",
      "           1       0.95      0.93      0.94      1799\n",
      "           2       0.97      0.99      0.98      5533\n",
      "           3       0.98      0.82      0.89       711\n",
      "\n",
      "    accuracy                           0.99     30000\n",
      "   macro avg       0.97      0.94      0.95     30000\n",
      "weighted avg       0.99      0.99      0.99     30000\n",
      "\n"
     ]
    }
   ],
   "source": [
    "from sklearn.metrics import classification_report, precision_score, recall_score, f1_score, accuracy_score\n",
    "\n",
    "# Assuming you have imported the classifiers and defined their predictions\n",
    "classifiers = [y_pred1, y_pred2, y_pred3, y_pred4, y_pred5, y_pred6]\n",
    "model_names = ['LogisticRegression', 'KNeighborsClassifier', 'MultinomialNB', 'DecisionTreeClassifier', 'RandomForestClassifier', 'XGBClassifier']\n",
    "\n",
    "# Create a dictionary to map model names to their respective predictions\n",
    "classifier_map = dict(zip(model_names, classifiers))\n",
    "\n",
    "# Now you can use this dictionary to iterate over each model name and its predictions\n",
    "for model_name, y_pred in classifier_map.items():\n",
    "    accuracy = accuracy_score(y_test, y_pred) \n",
    "    precision = precision_score(y_test, y_pred, average='weighted') \n",
    "    recall = recall_score(y_test, y_pred, average='weighted') \n",
    "    f1score = f1_score(y_test, y_pred, average='weighted') \n",
    "    class_report = classification_report(y_test, y_pred)\n",
    "    \n",
    "    print(f\"\\nMetrics for Model '{model_name}':\")\n",
    "    print(f\"Accuracy: {accuracy}\")\n",
    "    print(f\"Precision: {precision}\")\n",
    "    print(f\"Recall: {recall}\")\n",
    "    print(f\"F1-score: {f1score}\")\n",
    "    print(f\"Classification Report:\\n{class_report}\")\n"
   ]
  },
  {
   "cell_type": "markdown",
   "id": "2464e61e",
   "metadata": {
    "papermill": {
     "duration": 0.008612,
     "end_time": "2024-05-03T17:29:07.001411",
     "exception": false,
     "start_time": "2024-05-03T17:29:06.992799",
     "status": "completed"
    },
    "tags": []
   },
   "source": [
    "Results on bar plot"
   ]
  },
  {
   "cell_type": "code",
   "execution_count": 24,
   "id": "edf58ff8",
   "metadata": {
    "execution": {
     "iopub.execute_input": "2024-05-03T17:29:07.021125Z",
     "iopub.status.busy": "2024-05-03T17:29:07.020675Z",
     "iopub.status.idle": "2024-05-03T17:29:07.476912Z",
     "shell.execute_reply": "2024-05-03T17:29:07.475723Z"
    },
    "papermill": {
     "duration": 0.469865,
     "end_time": "2024-05-03T17:29:07.480071",
     "exception": false,
     "start_time": "2024-05-03T17:29:07.010206",
     "status": "completed"
    },
    "tags": []
   },
   "outputs": [
    {
     "data": {
      "image/png": "[encoded data removed]",
      "text/plain": [
       "<Figure size 1400x600 with 1 Axes>"
      ]
     },
     "metadata": {},
     "output_type": "display_data"
    }
   ],
   "source": [
    "import numpy as np\n",
    "import matplotlib.pyplot as plt\n",
    "\n",
    "# Initialize data for the bar chart\n",
    "models = list(classifier_map.keys())\n",
    "metrics = ['Accuracy', 'Precision', 'Recall', 'F1-score']\n",
    "\n",
    "# Calculate metric scores for each model\n",
    "metric_scores = {}\n",
    "for metric in metrics:\n",
    "    metric_scores[metric] = [accuracy_score(y_test, classifier_map[model_name]) if metric == 'Accuracy'\n",
    "                             else precision_score(y_test, classifier_map[model_name], average='weighted') if metric == 'Precision'\n",
    "                             else recall_score(y_test, classifier_map[model_name], average='weighted') if metric == 'Recall'\n",
    "                             else f1_score(y_test, classifier_map[model_name], average='weighted') for model_name in models]\n",
    "\n",
    "# Set width of bars\n",
    "bar_width = 0.2\n",
    "\n",
    "# Set position of bars on X axis\n",
    "r1 = np.arange(len(models))\n",
    "r2 = [x + bar_width for x in r1]\n",
    "r3 = [x + bar_width for x in r2]\n",
    "r4 = [x + bar_width for x in r3]\n",
    "\n",
    "plt.figure(figsize=(14, 6))\n",
    "\n",
    "# Define light colors\n",
    "colors = ['#add8e6', '#ffcc99', '#90ee90', '#ffb6c1']\n",
    "\n",
    "# Plotting the bars\n",
    "plt.bar(r1, metric_scores['Accuracy'], color=colors[0], width=bar_width, edgecolor='grey', label='Accuracy')\n",
    "plt.bar(r2, metric_scores['Precision'], color=colors[1], width=bar_width, edgecolor='grey', label='Precision')\n",
    "plt.bar(r3, metric_scores['Recall'], color=colors[2], width=bar_width, edgecolor='grey', label='Recall')\n",
    "plt.bar(r4, metric_scores['F1-score'], color=colors[3], width=bar_width, edgecolor='grey', label='F1-score')\n",
    "\n",
    "# Add xticks on the middle of the group bars\n",
    "plt.xlabel('Models', fontweight='bold')\n",
    "plt.xticks([r + bar_width*1.5 for r in range(len(models))], models)\n",
    "\n",
    "# Set y-axis limits\n",
    "plt.ylim(0.6, 1.0)\n",
    "\n",
    "# Add a legend and show the plot\n",
    "plt.legend()\n",
    "plt.show()\n"
   ]
  },
  {
   "cell_type": "markdown",
   "id": "150b0e67",
   "metadata": {
    "papermill": {
     "duration": 0.009666,
     "end_time": "2024-05-03T17:29:07.499393",
     "exception": false,
     "start_time": "2024-05-03T17:29:07.489727",
     "status": "completed"
    },
    "tags": []
   },
   "source": [
    "Results on line plot"
   ]
  },
  {
   "cell_type": "code",
   "execution_count": 25,
   "id": "500b48bb",
   "metadata": {
    "execution": {
     "iopub.execute_input": "2024-05-03T17:29:07.585662Z",
     "iopub.status.busy": "2024-05-03T17:29:07.585224Z",
     "iopub.status.idle": "2024-05-03T17:29:08.030315Z",
     "shell.execute_reply": "2024-05-03T17:29:08.029219Z"
    },
    "papermill": {
     "duration": 0.52347,
     "end_time": "2024-05-03T17:29:08.032099",
     "exception": false,
     "start_time": "2024-05-03T17:29:07.508629",
     "status": "completed"
    },
    "tags": []
   },
   "outputs": [
    {
     "data": {
      "image/png": "[encoded data removed]",
      "text/plain": [
       "<Figure size 1000x600 with 1 Axes>"
      ]
     },
     "metadata": {},
     "output_type": "display_data"
    }
   ],
   "source": [
    "import matplotlib.pyplot as plt\n",
    "\n",
    "# Initialize data for the line plot\n",
    "models = list(classifier_map.keys())\n",
    "metrics = ['Accuracy', 'Precision', 'Recall', 'F1-score']\n",
    "\n",
    "# Calculate metric scores for each model\n",
    "metric_scores = {}\n",
    "for metric in metrics:\n",
    "    metric_scores[metric] = [accuracy_score(y_test, classifier_map[model_name]) if metric == 'Accuracy'\n",
    "                             else precision_score(y_test, classifier_map[model_name], average='weighted') if metric == 'Precision'\n",
    "                             else recall_score(y_test, classifier_map[model_name], average='weighted') if metric == 'Recall'\n",
    "                             else f1_score(y_test, classifier_map[model_name], average='weighted') for model_name in models]\n",
    "\n",
    "# Plotting the line plot\n",
    "plt.figure(figsize=(10, 6))\n",
    "\n",
    "for metric in metrics:\n",
    "    plt.plot(models, metric_scores[metric], marker='o', label=metric)\n",
    "\n",
    "plt.title('Performance Metrics of Different Models Using Count Vectorizer')\n",
    "plt.xlabel('Models')\n",
    "plt.ylabel('Score')\n",
    "plt.ylim(0.7, 1.0)\n",
    "plt.legend()\n",
    "plt.grid(True)\n",
    "plt.xticks(rotation=45)\n",
    "plt.tight_layout()\n",
    "plt.show()\n"
   ]
  }
 ],
 "metadata": {
  "kaggle": {
   "accelerator": "none",
   "dataSources": [
    {
     "datasetId": 1486586,
     "sourceId": 2456026,
     "sourceType": "datasetVersion"
    }
   ],
   "dockerImageVersionId": 30673,
   "isGpuEnabled": false,
   "isInternetEnabled": true,
   "language": "python",
   "sourceType": "notebook"
  },
  "kernelspec": {
   "display_name": "Python 3",
   "language": "python",
   "name": "python3"
  },
  "language_info": {
   "codemirror_mode": {
    "name": "ipython",
    "version": 3
   },
   "file_extension": ".py",
   "mimetype": "text/x-python",
   "name": "python",
   "nbconvert_exporter": "python",
   "pygments_lexer": "ipython3",
   "version": "3.10.13"
  },
  "papermill": {
   "default_parameters": {},
   "duration": 518.817148,
   "end_time": "2024-05-03T17:29:08.765958",
   "environment_variables": {},
   "exception": null,
   "input_path": "__notebook__.ipynb",
   "output_path": "__notebook__.ipynb",
   "parameters": {},
   "start_time": "2024-05-03T17:20:29.948810",
   "version": "2.5.0"
  }
 },
 "nbformat": 4,
 "nbformat_minor": 5
}
